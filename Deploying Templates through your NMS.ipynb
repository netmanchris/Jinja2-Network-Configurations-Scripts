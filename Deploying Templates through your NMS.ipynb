{
 "cells": [
  {
   "cell_type": "code",
   "execution_count": 1,
   "metadata": {
    "collapsed": false
   },
   "outputs": [
    {
     "data": {
      "text/html": [
       "<style>\n",
       "table {float:left}\n",
       "</style>"
      ],
      "text/plain": [
       "<IPython.core.display.HTML object>"
      ]
     },
     "metadata": {},
     "output_type": "display_data"
    }
   ],
   "source": [
    "%%html\n",
    "<style>\n",
    "table {float:left}\n",
    "</style>"
   ]
  },
  {
   "cell_type": "markdown",
   "metadata": {},
   "source": [
    "*note: It's come to my attention that Wordpress is truncating some of my posts so that the right hand side is blocked by the side bar. My apologies for the this. I'll get it fixed ( or more likely move to GH pages ) as quickly as possible. Thanks for your patience*\n",
    "\n",
    "*@netmanchris*\n"
   ]
  },
  {
   "cell_type": "markdown",
   "metadata": {
    "slideshow": {
     "slide_type": "slide"
    }
   },
   "source": [
    "# Deploying Code to Devices Through your NMS\n",
    "\n",
    "If you're luck enough to have an NMS as powerful as [HPE IMC](http://www.hpe.com/networking/imc) then you already have a very capable system which has a ton of APIs that you probably didn't even know about. \n",
    "\n",
    "We've spent the last few posts ( [here](https://kontrolissues.wordpress.com/2016/01/14/intro-to-jinja2/), [here](https://kontrolissues.wordpress.com/2016/01/19/more-jinja-working-with-yam-as-an-input/), and [here](https://kontrolissues.wordpress.com/2016/01/29/git-and-jinja-like-peanut-butter-and-pickles/]) running through creating some network configurations through the [Jinja2 templating language](http://jinja.pocoo.org/docs/dev/). \n",
    "\n",
    "There are at least a couple of immediate benefits to this approach:\n",
    "- Consistency in the configuration between devices\n",
    "- Accuracy in the commands going into your devices\n",
    "\n",
    "\n",
    "But the one large draw back is that you've **still** got to cut and paste that configuration into your device somehow, which is not the ideal scenario. We're trying to get away from touching our devices. \n",
    "\n",
    "In this post, we're going to look at taking the rendered configuration and pushing it directly to the desired device through HPE IMC's RESTful API, refered to as the eAPI in documentation. \n",
    "\n",
    "*Although there used to be a charge for this, HPE recently made some changes and the RESTful API is now included in both \n",
    "\n"
   ]
  },
  {
   "cell_type": "code",
   "execution_count": 19,
   "metadata": {
    "collapsed": false
   },
   "outputs": [],
   "source": [
    "import requests\n",
    "import yaml\n",
    "import githubuser\n",
    "from pyhpeimc.auth import *\n",
    "from pyhpeimc.plat.device import *\n",
    "from pyhpeimc.plat.icc import *\n",
    "from pyhpeimc.plat.vlanm import *\n",
    "from jinja2 import Environment, FileSystemLoader, Template"
   ]
  },
  {
   "cell_type": "markdown",
   "metadata": {
    "slideshow": {
     "slide_type": "slide"
    }
   },
   "source": [
    "# Loading the templates and values from Git\n",
    "\n"
   ]
  },
  {
   "cell_type": "code",
   "execution_count": 20,
   "metadata": {
    "collapsed": false,
    "slideshow": {
     "slide_type": "-"
    }
   },
   "outputs": [],
   "source": [
    "comware_template = requests.get('https://raw.githubusercontent.com/netmanchris/Jinja2-Network-Configurations-Scripts/master/comware_vlan.j2').text\n",
    "gitauth = githubuser.gitcreds() #you didn't think I was going to give you my password did you?\n",
    "simple = yaml.load(requests.get('https://raw.githubusercontent.com/netmanchris/Jinja2-Network-Configurations-Scripts/master/vlans.yaml', auth=gitauth).text)\n",
    "cw_template = Template(comware_template)"
   ]
  },
  {
   "cell_type": "markdown",
   "metadata": {
    "slideshow": {
     "slide_type": "slide"
    }
   },
   "source": [
    "# Rendering the template"
   ]
  },
  {
   "cell_type": "code",
   "execution_count": 21,
   "metadata": {
    "collapsed": false
   },
   "outputs": [
    {
     "name": "stdout",
     "output_type": "stream",
     "text": [
      "#vlan config\n",
      "vlan 1\n",
      "    name default\n",
      "    description default\n",
      "vlan 2\n",
      "    name TenantABC\n",
      "    description TenantABC\n",
      "vlan 3\n",
      "    name management\n",
      "    description management\n",
      "vlan 10\n",
      "    name mgmt\n",
      "    description mgmt\n",
      "\n"
     ]
    }
   ],
   "source": [
    "my_template = cw_template.render(simple=simple)\n",
    "print (my_template)"
   ]
  },
  {
   "cell_type": "markdown",
   "metadata": {
    "slideshow": {
     "slide_type": "slide"
    }
   },
   "source": [
    "#  Options, Options, Options...\n",
    "\n",
    "We now have a decision to make. There are a couple of different APIs available to us to push VLANs to the device.\n",
    "\n",
    "For this example, we're going to use the executecmd API that allows us to send a series of commands to the device through the HPE IMC REST API. \n",
    "\n",
    "\n",
    "\n",
    "![vlan api](./images/executecmd.png)\n",
    "\n",
    "\n",
    "As you can see from the REST documentation, you need to send a JSON object which is a list of the commands that you would type in from the command prompt of the switch.\n",
    "\n",
    "So there are a couple of things we need to prepare the rendered jinja template into a format that can be sent to the API. \n",
    "\n",
    "1. We need to add the command <span style=\"color:blue\"> \"system-view\" </span> to the beginning of the command list. \n",
    "> system-view on HPE Comware devices is equivalent to the enable + conf t commands using hte IOS syntax you're probably used to\n",
    "\n",
    "2. We need to split the giant string that rendering the jinja template gave us into a python list with one command per list item. Thankfully, we can use the python <span style=\"color:blue\">split</span> method to help us through this. We can use the carriage return symbol to identify the end of each line. python identifies the carriage return by the <span style=\"color:blue\">\\n</span> characters which is what we're going to use as the input to the split method.\n",
    "\n",
    "3. Add the two together. \n"
   ]
  },
  {
   "cell_type": "code",
   "execution_count": 22,
   "metadata": {
    "collapsed": true
   },
   "outputs": [],
   "source": [
    "cmd_list = ['system-view']\n",
    "cmd_list = cmd_list + my_template.split('\\n')\n"
   ]
  },
  {
   "cell_type": "code",
   "execution_count": 23,
   "metadata": {
    "collapsed": false
   },
   "outputs": [
    {
     "data": {
      "text/plain": [
       "['system-view',\n",
       " '#vlan config',\n",
       " 'vlan 1',\n",
       " '    name default',\n",
       " '    description default',\n",
       " 'vlan 2',\n",
       " '    name TenantABC',\n",
       " '    description TenantABC',\n",
       " 'vlan 3',\n",
       " '    name management']"
      ]
     },
     "execution_count": 23,
     "metadata": {},
     "output_type": "execute_result"
    }
   ],
   "source": [
    "cmd_list[0:10]"
   ]
  },
  {
   "cell_type": "markdown",
   "metadata": {
    "slideshow": {
     "slide_type": "slide"
    }
   },
   "source": [
    "# Sending the commands"
   ]
  },
  {
   "cell_type": "code",
   "execution_count": 24,
   "metadata": {
    "collapsed": true
   },
   "outputs": [],
   "source": [
    "auth = IMCAuth(\"http://\", \"10.101.0.203\", \"8080\", \"admin\", \"admin\")"
   ]
  },
  {
   "cell_type": "markdown",
   "metadata": {},
   "source": [
    "# Getting the Device ID\n",
    "\n",
    "The input for the run_dev_cmd is the device ID. This is an internal number that IMC uses to idenitfy that specific device. Thankfully, we've also got an RESTful function to get that based on the IP address of the device.\n"
   ]
  },
  {
   "cell_type": "code",
   "execution_count": 25,
   "metadata": {
    "collapsed": false
   },
   "outputs": [],
   "source": [
    "devid = get_dev_details('10.20.10.10', auth.creds, auth.url)['id']"
   ]
  },
  {
   "cell_type": "code",
   "execution_count": 26,
   "metadata": {
    "collapsed": false
   },
   "outputs": [
    {
     "data": {
      "text/plain": [
       "'true'"
      ]
     },
     "execution_count": 26,
     "metadata": {},
     "output_type": "execute_result"
    }
   ],
   "source": [
    "run_dev_cmd(devid, cmd_list, auth.creds, auth.url)['success']"
   ]
  },
  {
   "cell_type": "markdown",
   "metadata": {
    "slideshow": {
     "slide_type": "slide"
    }
   },
   "source": [
    "# Double Checking the VLANs"
   ]
  },
  {
   "cell_type": "code",
   "execution_count": 27,
   "metadata": {
    "collapsed": false
   },
   "outputs": [
    {
     "name": "stdout",
     "output_type": "stream",
     "text": [
      "System View: return to User View with Ctrl+Z.\r",
      " Total VLANs: 5\r",
      "\r\n",
      " The VLANs include:\r",
      "\r\n",
      " 1(default), 2-3, 5, 10 \r\n"
     ]
    }
   ],
   "source": [
    "cmd_list = ['system-view', 'display vlan']\n",
    "print (run_dev_cmd(devid, cmd_list, auth.creds, auth.url)['content'])"
   ]
  },
  {
   "cell_type": "markdown",
   "metadata": {
    "collapsed": true
   },
   "source": [
    "# Getting better, right?\n",
    "\n",
    "\n",
    "So we've come a long way in a short time. We've \n",
    "- started with an introduction to [Jinja2 templating language](https://kontrolissues.wordpress.com/2016/01/14/intro-to-jinja2/)\n",
    "- learned how to [access templates and input variables from our hard drive](https://kontrolissues.wordpress.com/2016/01/19/more-jinja-working-with-yam-as-an-input/)\n",
    "- [Moved our access tempaltes and input variables to GitHub so that we can work collabaratively with our team](https://kontrolissues.wordpress.com/2016/01/29/git-and-jinja-like-peanut-butter-and-pickles/)\n",
    "\n",
    "And in this post, we learned how to leverage the first three to deploy configurations directly from code to our devices. This is a big step forward, but there are still a couple of small problems that we need to address\n",
    "\n",
    "## Configuration Drift\n",
    "\n",
    "If you look closely, we've actually got an extra VLAN in there. **VLAN 5** has been configured on the device, but it's not in our list of desired_vlans where we have declared exactly which VLANs should be on the target device. This is what is sometimes known as configuration drift. Some people may say \n",
    "\n",
    "> Hey, It's just an extra VLAN right? That won't hurt us!\n",
    "\n",
    "Sorry to respectfully disagree, but this attitude is exactly what causes us issues. This is the death of a thousand cuts. It's **JUST** one VLAN, **JUST** one switch running a differnet version of code, **JUST** one router that has some unused sub-interfaces on it.\n",
    "\n",
    "**IT'S JUST ONE MORE THING THAT WILL BITE YOU WHEN YOU'RE TROUBLESHOOTING AN ISSUE.**\n",
    "\n",
    "These **JUST** things are what we sometimes call technical debt. If you can figure out out. \n",
    "\n",
    "## Vendor Syntax\n",
    "\n",
    "The other problem with this example is that we are bound to a specific vendor's syntax. If you attmept to run the **system-view** command on a Juniper/Cisco/Brocade/Extreme/ARISTA device, it's going to error out. Right?  This coule easily be addressed by some conditional logic which figures out which kind of a box it is first and then leverages a specific Jinja template for that vendor, but you can see how this becomes a slippery slope rather quickly. \n",
    "\n",
    "In the next post, we're going to look at a way to address both of these issues. \n",
    "\n",
    "Stay Tuned!\n",
    "\n",
    "@netmanchris\n",
    "\n",
    "\n",
    "P.S. As always, comments and questions are more than welcome. "
   ]
  },
  {
   "cell_type": "code",
   "execution_count": null,
   "metadata": {
    "collapsed": true
   },
   "outputs": [],
   "source": []
  }
 ],
 "metadata": {
  "celltoolbar": "Slideshow",
  "kernelspec": {
   "display_name": "Python 3",
   "language": "python",
   "name": "python3"
  },
  "language_info": {
   "codemirror_mode": {
    "name": "ipython",
    "version": 3
   },
   "file_extension": ".py",
   "mimetype": "text/x-python",
   "name": "python",
   "nbconvert_exporter": "python",
   "pygments_lexer": "ipython3",
   "version": "3.4.3"
  }
 },
 "nbformat": 4,
 "nbformat_minor": 0
}
