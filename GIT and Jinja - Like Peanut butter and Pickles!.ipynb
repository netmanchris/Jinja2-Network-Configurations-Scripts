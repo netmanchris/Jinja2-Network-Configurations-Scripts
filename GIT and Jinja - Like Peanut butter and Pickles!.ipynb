{
 "cells": [
  {
   "cell_type": "code",
   "execution_count": 73,
   "metadata": {
    "collapsed": false,
    "slideshow": {
     "slide_type": "skip"
    }
   },
   "outputs": [
    {
     "data": {
      "text/html": [
       "<style>\n",
       "table {float:left}\n",
       "</style>"
      ],
      "text/plain": [
       "<IPython.core.display.HTML object>"
      ]
     },
     "metadata": {},
     "output_type": "display_data"
    }
   ],
   "source": [
    "%%html\n",
    "<style>\n",
    "table {float:left}\n",
    "</style>"
   ]
  },
  {
   "cell_type": "markdown",
   "metadata": {
    "slideshow": {
     "slide_type": "slide"
    }
   },
   "source": [
    "# Using GITHub to build our Network Configs\n",
    "\n",
    "As I wrote in [this post](https://kontrolissues.wordpress.com/2015/12/04/2015-2015-recap-and-plans-for-the-year/), one of my goals for this year is to be able to compltely automate the build of my lab environment programatically. \n",
    "\n",
    "In the last couple of jinja posts, I wrote about the basics of Jinja2 tempaltes and how they can be applied to building network configurations. \n",
    "\n",
    "In this post, I'm going to take the next step and move those files from my local hard drive out to...\n",
    "\n",
    "> duh duh dahhhhhhhhhh\n",
    "\n",
    "The cloud.\n",
    "\n",
    "![The cloud](http://tse1.mm.bing.net/th?&id=OIP.M3407dafc5125fa282800d982c7ea84afH0&w=300&h=200&c=0&pid=1.9&rs=0&p=0&r=0)\n",
    "\n",
    "\n"
   ]
  },
  {
   "cell_type": "markdown",
   "metadata": {
    "slideshow": {
     "slide_type": "slide"
    }
   },
   "source": [
    "# Before we get started...\n",
    "\n",
    "We're going to go over some basics on the tools we're using to make sure everyone's on the same page. cool?\n",
    "\n",
    "### What's GIT?\n",
    "\n",
    "Git is a widely-used source code management system for software development. It is a distributed revision control system with an emphasis on speed, data integrity, and support for distributed, non-linear workflows. [wikipedia](https://goo.gl/bAsYMZ)\n",
    "\n",
    "### Huh?\n",
    "\n",
    "GIT is a piece of software that allows you to track changes to files over time. \n",
    "\n",
    "### So what's GITHub?\n",
    "\n",
    "\"Where software is built\n",
    "Powerful collaboration, code review, and code management for\n",
    "open source and private projects. Public projects are always free. \" [Github.com](https://github.com/)\n",
    "\n",
    "GITHub is like facebook for developers. It's a place where you can sync your local GIT repository to a central location, and then sync that central location to other local repositories. \n",
    "\n",
    "### What's a repository?\n",
    "\n",
    "A repository is essentially a collection of files that make up a project. You could think of it like a folder or directory. That analogy is not exact as it's possible for a repository to have multiple sub-folders or directories, but it's close enough for our purposes. \n",
    "\n",
    "### Is GIT only for Code?\n",
    "GIT was definitely designed for software developers to as a versioning control system while developing software, \n",
    "but you can use it for tracking changes to things other than \n",
    "\n",
    "You could use it for anything text format that you want to track changes to over time. For example\n",
    "- grocery lists\n",
    "- contact list\n",
    "- tracking your weight\n",
    "\n",
    "There are a lot of interesting uses for GIT, one of those that we're going to use today is looking at storing our Jinja2 templates on a public GIT repository and loading them directly into our python script as part of the code."
   ]
  },
  {
   "cell_type": "markdown",
   "metadata": {
    "slideshow": {
     "slide_type": "slide"
    }
   },
   "source": [
    "# Import Required Libraries\n",
    "\n",
    "Unles you've already got them, you'll need to  <code> pip install jinj2 </code> and <code> pip install requests </code> these two libraries before loading them into your running environment."
   ]
  },
  {
   "cell_type": "code",
   "execution_count": 74,
   "metadata": {
    "collapsed": true,
    "slideshow": {
     "slide_type": "-"
    }
   },
   "outputs": [],
   "source": [
    "import requests\n",
    "import yaml\n",
    "import githubuser\n",
    "from jinja2 import Environment, FileSystemLoader, Template"
   ]
  },
  {
   "cell_type": "markdown",
   "metadata": {
    "collapsed": true,
    "slideshow": {
     "slide_type": "slide"
    }
   },
   "source": [
    "# Loading Templates from GITHub\n",
    "\n",
    "Like with most things in python, if it's useful enough, chances are there's probably someone else who already put a library together for that. In our case, we're going to use the python [request library](http://docs.python-requests.org/en/latest/) to handle loading files directly from our [Github repository](https://github.com/netmanchris/Jinja2-Network-Configurations-Scripts/).  \n",
    "\n"
   ]
  },
  {
   "cell_type": "markdown",
   "metadata": {
    "slideshow": {
     "slide_type": "-"
    }
   },
   "source": [
    "The first thing we'll do is load the HPE comware switch template from that we used in [this post](https://kontrolissues.wordpress.com/2016/01/19/more-jinja-working-with-yam-as-an-input/).  If you wanted to take a look at this directly on github, it can be found [here](https://github.com/netmanchris/Jinja2-Network-Configurations-Scripts/blob/master/simple_comware.j2).   All we have to do is to copy and paste the URL from our browser directly into the first input of the requests.get function. \n",
    "\n",
    "*note: The requests function will return a whole object that has various attributes. the \" .text \" at the end of this tells the function to just give us the contents of the file, not of the other information, like the HTTP status_code. *\n",
    "\n",
    "Simple, right?"
   ]
  },
  {
   "cell_type": "code",
   "execution_count": 75,
   "metadata": {
    "collapsed": false,
    "slideshow": {
     "slide_type": "-"
    }
   },
   "outputs": [],
   "source": [
    "comware_template = requests.get('https://github.com/netmanchris/Jinja2-Network-Configurations-Scripts/blob/master/simple_comware.j2').text\n"
   ]
  },
  {
   "cell_type": "markdown",
   "metadata": {
    "slideshow": {
     "slide_type": "slide"
    }
   },
   "source": [
    "## Looking at the output\n",
    "\n",
    "So now that we've loaded the contents of the simple_comware.j2 template directly from the Github site into the comware_template variable. Let's take a look to make sure that we have what we need."
   ]
  },
  {
   "cell_type": "code",
   "execution_count": 76,
   "metadata": {
    "collapsed": false
   },
   "outputs": [
    {
     "name": "stdout",
     "output_type": "stream",
     "text": [
      "\n",
      "\n",
      "\n",
      "\n",
      "<!DOCTYPE html>\n",
      "<html lang=\"en\" class=\"\">\n",
      "  <head prefix=\"og: http://ogp.me/ns# fb: http://ogp.me/ns/fb# object: http://ogp.me/ns/object# article: http://ogp.me/ns/article# profile: http://ogp.me/ns/profile#\">\n",
      "    <meta charset='utf-8'>\n",
      "    <meta http-equiv=\"X-UA-Compatible\" content=\"IE=edge\">\n",
      "    <meta http-equiv=\"Content-Language\" content=\"en\">\n",
      "    <meta name=\"viewport\" content=\"width=1020\">\n",
      "    \n",
      "    \n",
      "    <title>Jinja2-Network-Configurations-Scripts/simple_comware.j2 at master · netmanchris/Jinja2-Network-Configurations-Scripts · GitHub</title>\n",
      "    <link rel=\"search\" type=\"application/opensearchdescription+xml\" href=\"/opensearch.xml\" title=\"GitHub\">\n",
      "    <link rel=\"fluid-icon\" href=\"https://github.com/fluidicon.png\" title=\"GitHub\">\n",
      "    <link rel=\"apple-touch-icon\" href=\"/apple-touch-icon.png\">\n",
      "    <link rel=\"apple-touch-icon\" sizes=\"57x57\" href=\"/apple-touch-icon-57x57.png\">\n",
      "    <link rel=\"apple-touch-icon\" sizes=\"60x60\" href=\"/apple-touch-icon-60x60.png\">\n",
      "    <link rel=\"apple-touch-icon\" sizes=\"72x72\" href=\"/apple-touch-icon-72x72.png\">\n",
      "    <link rel=\"apple-touch-icon\" sizes=\"76x76\" href=\"/apple-touch-icon-76x76.png\">\n",
      "    <link rel=\"apple-touch-icon\" sizes=\"114x114\" href=\"/apple-touch-icon-114x114.png\">\n",
      "    <link rel=\"apple-touch-icon\" sizes=\"120x120\" href=\"/apple-touch-icon-120x120.png\">\n",
      "    <link rel=\"apple-touch-icon\" sizes=\"144x144\" href=\"/apple-touch-icon-144x144.png\">\n",
      "    <link rel=\"apple-touch-icon\" sizes=\"152x152\" href=\"/apple-touch-icon-152x152.png\">\n",
      "    <link rel=\"apple-touch-icon\" sizes=\"180x180\" href=\"/apple-touch-icon-180x180.png\">\n",
      "    <meta property=\"fb:app_id\" content=\"1401488693436528\">\n",
      "\n",
      "      <meta content=\"@github\" name=\"twitter:site\" /><meta content=\"summary\" name=\"twitter:card\" /><meta content=\"netmanchris/Jinja2-Network-Configurations-Scripts\" name=\"twitter:title\" /><meta content=\"Jinja2-Network-Configurations-Scripts - Network Configuration Scripts\" name=\"twitter:description\" /><meta content=\"https://avatars1.githubusercontent.com/u/9815146?v=3&amp;s=400\" name=\"twitter:image:src\" />\n",
      "      <meta content=\"GitHub\" property=\"og:site_name\" /><meta content=\"object\" property=\"og:type\" /><meta content=\"https://avatars1.githubusercontent.com/u/9815146?v=3&amp;s=400\" property=\"og:image\" /><meta content=\"netmanchris/Jinja2-Network-Configurations-Scripts\" property=\"og:title\" /><meta content=\"https://github.com/netmanchris/Jinja2-Network-Configurations-Scripts\" property=\"og:url\" /><meta content=\"Jinja2-Network-Configurations-Scripts - Network Configuration Scripts\" property=\"og:description\" />\n",
      "      <meta name=\"browser-stats-url\" content=\"https://api.github.com/_private/browser/stats\">\n",
      "    <meta name=\"browser-errors-url\" content=\"https://api.github.com/_private/browser/errors\">\n",
      "    <link rel=\"assets\" href=\"https://assets-cdn.github.com/\">\n",
      "    \n",
      "    <meta name=\"pjax-timeout\" content=\"1000\">\n",
      "    \n",
      "\n",
      "    <meta name=\"msapplication-TileImage\" content=\"/windows-tile.png\">\n",
      "    <meta name=\"msapplication-TileColor\" content=\"#ffffff\">\n",
      "    <meta name=\"selected-link\" value=\"repo_source\" data-pjax-transient>\n",
      "\n",
      "    <meta name=\"google-site-verification\" content=\"KT5gs8h0wvaagLKAVWq8bbeNwnZZK1r1XQysX3xurLU\">\n",
      "    <meta name=\"google-analytics\" content=\"UA-3769691-2\">\n",
      "\n",
      "<meta content=\"collector.githubapp.com\" name=\"octolytics-host\" /><meta content=\"github\" name=\"octolytics-app-id\" /><meta content=\"60148A1A:0600:25A84BB:56A3D8E2\" name=\"octolytics-dimension-request_id\" />\n",
      "<meta content=\"/&lt;user-name&gt;/&lt;repo-name&gt;/blob/show\" data-pjax-transient=\"true\" name=\"analytics-location\" />\n",
      "\n",
      "\n",
      "\n",
      "  <meta class=\"js-ga-set\" name=\"dimension1\" content=\"Logged Out\">\n",
      "\n",
      "\n",
      "\n",
      "        <meta name=\"hostname\" content=\"github.com\">\n",
      "    <meta name=\"user-login\" content=\"\">\n",
      "\n",
      "        <meta name=\"expected-hostname\" content=\"github.com\">\n",
      "\n",
      "      <link rel=\"mask-icon\" href=\"https://assets-cdn.github.com/pinned-octocat.svg\" color=\"#4078c0\">\n",
      "      <link rel=\"icon\" type=\"image/x-icon\" href=\"https://assets-cdn.github.com/favicon.ico\">\n",
      "\n",
      "    <meta content=\"0eeeaba99e18a2a857407008b071f2f698c9b4bd\" name=\"form-nonce\" />\n",
      "\n",
      "    <link crossorigin=\"anonymous\" href=\"https://assets-cdn.github.com/assets/github-fefb561e0a804c2a181aed0adbaa8ba5aa475e09b7692a3f737cb8bb50ef1c27.css\" media=\"all\" rel=\"stylesheet\" />\n",
      "    <link crossorigin=\"anonymous\" href=\"https://assets-cdn.github.com/assets/github2-b2d8d1fd984ff1b181275aaa1276c82bb266b4f58f08f3075941d786d5b432ec.css\" media=\"all\" rel=\"stylesheet\" />\n",
      "    \n",
      "    \n",
      "\n",
      "\n",
      "    <meta http-equiv=\"x-pjax-version\" content=\"f08e6513a91b7d33dce8dbaaa01f9efd\">\n",
      "\n",
      "      \n",
      "  <meta name=\"description\" content=\"Jinja2-Network-Configurations-Scripts - Network Configuration Scripts\">\n",
      "  <meta name=\"go-import\" content=\"github.com/netmanchris/Jinja2-Network-Configurations-Scripts git https://github.com/netmanchris/Jinja2-Network-Configurations-Scripts.git\">\n",
      "\n",
      "  <meta content=\"9815146\" name=\"octolytics-dimension-user_id\" /><meta content=\"netmanchris\" name=\"octolytics-dimension-user_login\" /><meta content=\"39023270\" name=\"octolytics-dimension-repository_id\" /><meta content=\"netmanchris/Jinja2-Network-Configurations-Scripts\" name=\"octolytics-dimension-repository_nwo\" /><meta content=\"true\" name=\"octolytics-dimension-repository_public\" /><meta content=\"false\" name=\"octolytics-dimension-repository_is_fork\" /><meta content=\"39023270\" name=\"octolytics-dimension-repository_network_root_id\" /><meta content=\"netmanchris/Jinja2-Network-Configurations-Scripts\" name=\"octolytics-dimension-repository_network_root_nwo\" />\n",
      "  <link href=\"https://github.com/netmanchris/Jinja2-Network-Configurations-Scripts/commits/master.atom\" rel=\"alternate\" title=\"Recent Commits to Jinja2-Network-Configurations-Scripts:master\" type=\"application/atom+xml\">\n",
      "\n",
      "\n",
      "      <link rel=\"canonical\" href=\"https://github.com/netmanchris/Jinja2-Network-Configurations-Scripts/blob/master/simple_comware.j2\" data-pjax-transient>\n",
      "  </head>\n",
      "\n",
      "\n",
      "  <body class=\"logged_out   env-production  vis-public page-blob\">\n",
      "    <a href=\"#start-of-content\" tabindex=\"1\" class=\"accessibility-aid js-skip-to-content\">Skip to content</a>\n",
      "\n",
      "    \n",
      "    \n",
      "    \n",
      "\n",
      "\n",
      "\n",
      "      \n",
      "      <div class=\"header header-logged-out\" role=\"banner\">\n",
      "  <div class=\"container clearfix\">\n",
      "\n",
      "    <a class=\"header-logo-wordmark\" href=\"https://github.com/\" data-ga-click=\"(Logged out) Header, go to homepage, icon:logo-wordmark\">\n",
      "      <span aria-hidden=\"true\" class=\"mega-octicon octicon-logo-github\"></span>\n",
      "    </a>\n",
      "\n",
      "    <div class=\"header-actions\" role=\"navigation\">\n",
      "        <a class=\"btn btn-primary\" href=\"/join?source=header\" data-ga-click=\"(Logged out) Header, clicked Sign up, text:sign-up\">Sign up</a>\n",
      "      <a class=\"btn\" href=\"/login?return_to=%2Fnetmanchris%2FJinja2-Network-Configurations-Scripts%2Fblob%2Fmaster%2Fsimple_comware.j2\" data-ga-click=\"(Logged out) Header, clicked Sign in, text:sign-in\">Sign in</a>\n",
      "    </div>\n",
      "\n",
      "    <div class=\"site-search repo-scope js-site-search\" role=\"search\">\n",
      "      <!-- </textarea> --><!-- '\"` --><form accept-charset=\"UTF-8\" action=\"/netmanchris/Jinja2-Network-Configurations-Scripts/search\" class=\"js-site-search-form\" data-global-search-url=\"/search\" data-repo-search-url=\"/netmanchris/Jinja2-Network-Configurations-Scripts/search\" method=\"get\"><div style=\"margin:0;padding:0;display:inline\"><input name=\"utf8\" type=\"hidden\" value=\"&#x2713;\" /></div>\n",
      "  <label class=\"js-chromeless-input-container form-control\">\n",
      "    <div class=\"scope-badge\">This repository</div>\n",
      "    <input type=\"text\"\n",
      "      class=\"js-site-search-focus js-site-search-field is-clearable chromeless-input\"\n",
      "      data-hotkey=\"s\"\n",
      "      name=\"q\"\n",
      "      placeholder=\"Search\"\n",
      "      aria-label=\"Search this repository\"\n",
      "      data-global-scope-placeholder=\"Search GitHub\"\n",
      "      data-repo-scope-placeholder=\"Search\"\n",
      "      tabindex=\"1\"\n",
      "      autocapitalize=\"off\">\n",
      "  </label>\n",
      "</form>\n",
      "    </div>\n",
      "\n",
      "      <ul class=\"header-nav left\" role=\"navigation\">\n",
      "          <li class=\"header-nav-item\">\n",
      "            <a class=\"header-nav-link\" href=\"/explore\" data-ga-click=\"(Logged out) Header, go to explore, text:explore\">Explore</a>\n",
      "          </li>\n",
      "          <li class=\"header-nav-item\">\n",
      "            <a class=\"header-nav-link\" href=\"/features\" data-ga-click=\"(Logged out) Header, go to features, text:features\">Features</a>\n",
      "          </li>\n",
      "          <li class=\"header-nav-item\">\n",
      "            <a class=\"header-nav-link\" href=\"https://enterprise.github.com/\" data-ga-click=\"(Logged out) Header, go to enterprise, text:enterprise\">Enterprise</a>\n",
      "          </li>\n",
      "          <li class=\"header-nav-item\">\n",
      "            <a class=\"header-nav-link\" href=\"/pricing\" data-ga-click=\"(Logged out) Header, go to pricing, text:pricing\">Pricing</a>\n",
      "          </li>\n",
      "      </ul>\n",
      "\n",
      "  </div>\n",
      "</div>\n",
      "\n",
      "\n",
      "\n",
      "    <div id=\"start-of-content\" class=\"accessibility-aid\"></div>\n",
      "\n",
      "      <div id=\"js-flash-container\">\n",
      "</div>\n",
      "\n",
      "\n",
      "    <div role=\"main\" class=\"main-content\">\n",
      "        <div itemscope itemtype=\"http://schema.org/WebPage\">\n",
      "    <div id=\"js-repo-pjax-container\" class=\"context-loader-container js-repo-nav-next\" data-pjax-container>\n",
      "      \n",
      "<div class=\"pagehead repohead instapaper_ignore readability-menu experiment-repo-nav\">\n",
      "  <div class=\"container repohead-details-container\">\n",
      "\n",
      "    \n",
      "\n",
      "<ul class=\"pagehead-actions\">\n",
      "\n",
      "  <li>\n",
      "      <a href=\"/login?return_to=%2Fnetmanchris%2FJinja2-Network-Configurations-Scripts\"\n",
      "    class=\"btn btn-sm btn-with-count tooltipped tooltipped-n\"\n",
      "    aria-label=\"You must be signed in to watch a repository\" rel=\"nofollow\">\n",
      "    <span aria-hidden=\"true\" class=\"octicon octicon-eye\"></span>\n",
      "    Watch\n",
      "  </a>\n",
      "  <a class=\"social-count\" href=\"/netmanchris/Jinja2-Network-Configurations-Scripts/watchers\">\n",
      "    3\n",
      "  </a>\n",
      "\n",
      "  </li>\n",
      "\n",
      "  <li>\n",
      "      <a href=\"/login?return_to=%2Fnetmanchris%2FJinja2-Network-Configurations-Scripts\"\n",
      "    class=\"btn btn-sm btn-with-count tooltipped tooltipped-n\"\n",
      "    aria-label=\"You must be signed in to star a repository\" rel=\"nofollow\">\n",
      "    <span aria-hidden=\"true\" class=\"octicon octicon-star\"></span>\n",
      "    Star\n",
      "  </a>\n",
      "\n",
      "    <a class=\"social-count js-social-count\" href=\"/netmanchris/Jinja2-Network-Configurations-Scripts/stargazers\">\n",
      "      0\n",
      "    </a>\n",
      "\n",
      "  </li>\n",
      "\n",
      "  <li>\n",
      "      <a href=\"/login?return_to=%2Fnetmanchris%2FJinja2-Network-Configurations-Scripts\"\n",
      "        class=\"btn btn-sm btn-with-count tooltipped tooltipped-n\"\n",
      "        aria-label=\"You must be signed in to fork a repository\" rel=\"nofollow\">\n",
      "        <span aria-hidden=\"true\" class=\"octicon octicon-repo-forked\"></span>\n",
      "        Fork\n",
      "      </a>\n",
      "\n",
      "    <a href=\"/netmanchris/Jinja2-Network-Configurations-Scripts/network\" class=\"social-count\">\n",
      "      0\n",
      "    </a>\n",
      "  </li>\n",
      "</ul>\n",
      "\n",
      "    <h1 itemscope itemtype=\"http://data-vocabulary.org/Breadcrumb\" class=\"entry-title public \">\n",
      "  <span aria-hidden=\"true\" class=\"octicon octicon-repo\"></span>\n",
      "  <span class=\"author\"><a href=\"/netmanchris\" class=\"url fn\" itemprop=\"url\" rel=\"author\"><span itemprop=\"title\">netmanchris</span></a></span><!--\n",
      "--><span class=\"path-divider\">/</span><!--\n",
      "--><strong><a href=\"/netmanchris/Jinja2-Network-Configurations-Scripts\" data-pjax=\"#js-repo-pjax-container\">Jinja2-Network-Configurations-Scripts</a></strong>\n",
      "\n",
      "  <span class=\"page-context-loader\">\n",
      "    <img alt=\"\" height=\"16\" src=\"https://assets-cdn.github.com/images/spinners/octocat-spinner-32.gif\" width=\"16\" />\n",
      "  </span>\n",
      "\n",
      "</h1>\n",
      "\n",
      "  </div>\n",
      "  <div class=\"container\">\n",
      "    \n",
      "<nav class=\"reponav js-repo-nav js-sidenav-container-pjax js-octicon-loaders\"\n",
      "     role=\"navigation\"\n",
      "     data-pjax=\"#js-repo-pjax-container\">\n",
      "\n",
      "  <a href=\"/netmanchris/Jinja2-Network-Configurations-Scripts\" aria-label=\"Code\" aria-selected=\"true\" class=\"js-selected-navigation-item selected reponav-item\" data-hotkey=\"g c\" data-selected-links=\"repo_source repo_downloads repo_commits repo_releases repo_tags repo_branches /netmanchris/Jinja2-Network-Configurations-Scripts\">\n",
      "    <span aria-hidden=\"true\" class=\"octicon octicon-code\"></span>\n",
      "    Code\n",
      "</a>\n",
      "    <a href=\"/netmanchris/Jinja2-Network-Configurations-Scripts/issues\" class=\"js-selected-navigation-item reponav-item\" data-hotkey=\"g i\" data-selected-links=\"repo_issues repo_labels repo_milestones /netmanchris/Jinja2-Network-Configurations-Scripts/issues\">\n",
      "      <span aria-hidden=\"true\" class=\"octicon octicon-issue-opened\"></span>\n",
      "      Issues\n",
      "      <span class=\"counter\">0</span>\n",
      "</a>\n",
      "  <a href=\"/netmanchris/Jinja2-Network-Configurations-Scripts/pulls\" class=\"js-selected-navigation-item reponav-item\" data-hotkey=\"g p\" data-selected-links=\"repo_pulls /netmanchris/Jinja2-Network-Configurations-Scripts/pulls\">\n",
      "    <span aria-hidden=\"true\" class=\"octicon octicon-git-pull-request\"></span>\n",
      "    Pull requests\n",
      "    <span class=\"counter\">0</span>\n",
      "</a>\n",
      "\n",
      "  <a href=\"/netmanchris/Jinja2-Network-Configurations-Scripts/pulse\" class=\"js-selected-navigation-item reponav-item\" data-selected-links=\"pulse /netmanchris/Jinja2-Network-Configurations-Scripts/pulse\">\n",
      "    <span aria-hidden=\"true\" class=\"octicon octicon-pulse\"></span>\n",
      "    Pulse\n",
      "</a>\n",
      "  <a href=\"/netmanchris/Jinja2-Network-Configurations-Scripts/graphs\" class=\"js-selected-navigation-item reponav-item\" data-selected-links=\"repo_graphs repo_contributors /netmanchris/Jinja2-Network-Configurations-Scripts/graphs\">\n",
      "    <span aria-hidden=\"true\" class=\"octicon octicon-graph\"></span>\n",
      "    Graphs\n",
      "</a>\n",
      "\n",
      "</nav>\n",
      "\n",
      "  </div>\n",
      "</div>\n",
      "\n",
      "<div class=\"container new-discussion-timeline experiment-repo-nav\">\n",
      "  <div class=\"repository-content\">\n",
      "\n",
      "    \n",
      "\n",
      "<a href=\"/netmanchris/Jinja2-Network-Configurations-Scripts/blob/ff92fa74e6c72c633a4e93ed204a9a6bc56d11f6/simple_comware.j2\" class=\"hidden js-permalink-shortcut\" data-hotkey=\"y\">Permalink</a>\n",
      "\n",
      "<!-- blob contrib key: blob_contributors:v21:d75b7c9a36c8f97125dd1a803c96b7bb -->\n",
      "\n",
      "<div class=\"file-navigation js-zeroclipboard-container\">\n",
      "  \n",
      "<div class=\"select-menu js-menu-container js-select-menu left\">\n",
      "  <button class=\"btn btn-sm select-menu-button js-menu-target css-truncate\" data-hotkey=\"w\"\n",
      "    title=\"master\"\n",
      "    type=\"button\" aria-label=\"Switch branches or tags\" tabindex=\"0\" aria-haspopup=\"true\">\n",
      "    <i>Branch:</i>\n",
      "    <span class=\"js-select-button css-truncate-target\">master</span>\n",
      "  </button>\n",
      "\n",
      "  <div class=\"select-menu-modal-holder js-menu-content js-navigation-container\" data-pjax aria-hidden=\"true\">\n",
      "\n",
      "    <div class=\"select-menu-modal\">\n",
      "      <div class=\"select-menu-header\">\n",
      "        <span aria-label=\"Close\" class=\"octicon octicon-x js-menu-close\" role=\"button\"></span>\n",
      "        <span class=\"select-menu-title\">Switch branches/tags</span>\n",
      "      </div>\n",
      "\n",
      "      <div class=\"select-menu-filters\">\n",
      "        <div class=\"select-menu-text-filter\">\n",
      "          <input type=\"text\" aria-label=\"Filter branches/tags\" id=\"context-commitish-filter-field\" class=\"js-filterable-field js-navigation-enable\" placeholder=\"Filter branches/tags\">\n",
      "        </div>\n",
      "        <div class=\"select-menu-tabs\">\n",
      "          <ul>\n",
      "            <li class=\"select-menu-tab\">\n",
      "              <a href=\"#\" data-tab-filter=\"branches\" data-filter-placeholder=\"Filter branches/tags\" class=\"js-select-menu-tab\" role=\"tab\">Branches</a>\n",
      "            </li>\n",
      "            <li class=\"select-menu-tab\">\n",
      "              <a href=\"#\" data-tab-filter=\"tags\" data-filter-placeholder=\"Find a tag…\" class=\"js-select-menu-tab\" role=\"tab\">Tags</a>\n",
      "            </li>\n",
      "          </ul>\n",
      "        </div>\n",
      "      </div>\n",
      "\n",
      "      <div class=\"select-menu-list select-menu-tab-bucket js-select-menu-tab-bucket\" data-tab-filter=\"branches\" role=\"menu\">\n",
      "\n",
      "        <div data-filterable-for=\"context-commitish-filter-field\" data-filterable-type=\"substring\">\n",
      "\n",
      "\n",
      "            <a class=\"select-menu-item js-navigation-item js-navigation-open selected\"\n",
      "               href=\"/netmanchris/Jinja2-Network-Configurations-Scripts/blob/master/simple_comware.j2\"\n",
      "               data-name=\"master\"\n",
      "               data-skip-pjax=\"true\"\n",
      "               rel=\"nofollow\">\n",
      "              <span aria-hidden=\"true\" class=\"octicon octicon-check select-menu-item-icon\"></span>\n",
      "              <span class=\"select-menu-item-text css-truncate-target\" title=\"master\">\n",
      "                master\n",
      "              </span>\n",
      "            </a>\n",
      "        </div>\n",
      "\n",
      "          <div class=\"select-menu-no-results\">Nothing to show</div>\n",
      "      </div>\n",
      "\n",
      "      <div class=\"select-menu-list select-menu-tab-bucket js-select-menu-tab-bucket\" data-tab-filter=\"tags\">\n",
      "        <div data-filterable-for=\"context-commitish-filter-field\" data-filterable-type=\"substring\">\n",
      "\n",
      "\n",
      "        </div>\n",
      "\n",
      "        <div class=\"select-menu-no-results\">Nothing to show</div>\n",
      "      </div>\n",
      "\n",
      "    </div>\n",
      "  </div>\n",
      "</div>\n",
      "\n",
      "  <div class=\"btn-group right\">\n",
      "    <a href=\"/netmanchris/Jinja2-Network-Configurations-Scripts/find/master\"\n",
      "          class=\"js-show-file-finder btn btn-sm\"\n",
      "          data-pjax\n",
      "          data-hotkey=\"t\">\n",
      "      Find file\n",
      "    </a>\n",
      "    <button aria-label=\"Copy file path to clipboard\" class=\"js-zeroclipboard btn btn-sm zeroclipboard-button tooltipped tooltipped-s\" data-copied-hint=\"Copied!\" type=\"button\">Copy path</button>\n",
      "  </div>\n",
      "  <div class=\"breadcrumb js-zeroclipboard-target\">\n",
      "    <span class=\"repo-root js-repo-root\"><span itemscope=\"\" itemtype=\"http://data-vocabulary.org/Breadcrumb\"><a href=\"/netmanchris/Jinja2-Network-Configurations-Scripts\" class=\"\" data-branch=\"master\" data-pjax=\"true\" itemscope=\"url\"><span itemprop=\"title\">Jinja2-Network-Configurations-Scripts</span></a></span></span><span class=\"separator\">/</span><strong class=\"final-path\">simple_comware.j2</strong>\n",
      "  </div>\n",
      "</div>\n",
      "\n",
      "\n",
      "  <div class=\"commit-tease\">\n",
      "      <span class=\"right\">\n",
      "        <a class=\"commit-tease-sha\" href=\"/netmanchris/Jinja2-Network-Configurations-Scripts/commit/ff92fa74e6c72c633a4e93ed204a9a6bc56d11f6\" data-pjax>\n",
      "          ff92fa7\n",
      "        </a>\n",
      "        <time datetime=\"2016-01-23T17:55:36Z\" is=\"relative-time\">Jan 23, 2016</time>\n",
      "      </span>\n",
      "      <div>\n",
      "        <img alt=\"@netmanchris\" class=\"avatar\" height=\"20\" src=\"https://avatars1.githubusercontent.com/u/9815146?v=3&amp;s=40\" width=\"20\" />\n",
      "        <a href=\"/netmanchris\" class=\"user-mention\" rel=\"author\">netmanchris</a>\n",
      "          <a href=\"/netmanchris/Jinja2-Network-Configurations-Scripts/commit/ff92fa74e6c72c633a4e93ed204a9a6bc56d11f6\" class=\"message\" data-pjax=\"true\" title=\"Fixing GIT\">Fixing GIT</a>\n",
      "      </div>\n",
      "\n",
      "    <div class=\"commit-tease-contributors\">\n",
      "      <a class=\"muted-link contributors-toggle\" href=\"#blob_contributors_box\" rel=\"facebox\">\n",
      "        <strong>1</strong>\n",
      "         contributor\n",
      "      </a>\n",
      "      \n",
      "    </div>\n",
      "\n",
      "    <div id=\"blob_contributors_box\" style=\"display:none\">\n",
      "      <h2 class=\"facebox-header\" data-facebox-id=\"facebox-header\">Users who have contributed to this file</h2>\n",
      "      <ul class=\"facebox-user-list\" data-facebox-id=\"facebox-description\">\n",
      "          <li class=\"facebox-user-list-item\">\n",
      "            <img alt=\"@netmanchris\" height=\"24\" src=\"https://avatars3.githubusercontent.com/u/9815146?v=3&amp;s=48\" width=\"24\" />\n",
      "            <a href=\"/netmanchris\">netmanchris</a>\n",
      "          </li>\n",
      "      </ul>\n",
      "    </div>\n",
      "  </div>\n",
      "\n",
      "<div class=\"file\">\n",
      "  <div class=\"file-header\">\n",
      "  <div class=\"file-actions\">\n",
      "\n",
      "    <div class=\"btn-group\">\n",
      "      <a href=\"/netmanchris/Jinja2-Network-Configurations-Scripts/raw/master/simple_comware.j2\" class=\"btn btn-sm \" id=\"raw-url\">Raw</a>\n",
      "        <a href=\"/netmanchris/Jinja2-Network-Configurations-Scripts/blame/master/simple_comware.j2\" class=\"btn btn-sm js-update-url-with-hash\">Blame</a>\n",
      "      <a href=\"/netmanchris/Jinja2-Network-Configurations-Scripts/commits/master/simple_comware.j2\" class=\"btn btn-sm \" rel=\"nofollow\">History</a>\n",
      "    </div>\n",
      "\n",
      "\n",
      "        <button type=\"button\" class=\"btn-octicon disabled tooltipped tooltipped-nw\"\n",
      "          aria-label=\"You must be signed in to make or propose changes\">\n",
      "          <span aria-hidden=\"true\" class=\"octicon octicon-pencil\"></span>\n",
      "        </button>\n",
      "        <button type=\"button\" class=\"btn-octicon btn-octicon-danger disabled tooltipped tooltipped-nw\"\n",
      "          aria-label=\"You must be signed in to make or propose changes\">\n",
      "          <span aria-hidden=\"true\" class=\"octicon octicon-trashcan\"></span>\n",
      "        </button>\n",
      "  </div>\n",
      "\n",
      "  <div class=\"file-info\">\n",
      "      14 lines (14 sloc)\n",
      "      <span class=\"file-info-divider\"></span>\n",
      "    497 Bytes\n",
      "  </div>\n",
      "</div>\n",
      "\n",
      "  \n",
      "\n",
      "  <div class=\"blob-wrapper data type-text\">\n",
      "      <table class=\"highlight tab-size js-file-line-container\" data-tab-size=\"8\">\n",
      "      <tr>\n",
      "        <td id=\"L1\" class=\"blob-num js-line-number\" data-line-number=\"1\"></td>\n",
      "        <td id=\"LC1\" class=\"blob-code blob-code-inner js-file-line\">#sysname config</td>\n",
      "      </tr>\n",
      "      <tr>\n",
      "        <td id=\"L2\" class=\"blob-num js-line-number\" data-line-number=\"2\"></td>\n",
      "        <td id=\"LC2\" class=\"blob-code blob-code-inner js-file-line\">sysname {{ simple[&#39;hostname&#39;] }}</td>\n",
      "      </tr>\n",
      "      <tr>\n",
      "        <td id=\"L3\" class=\"blob-num js-line-number\" data-line-number=\"3\"></td>\n",
      "        <td id=\"LC3\" class=\"blob-code blob-code-inner js-file-line\">#vlan config</td>\n",
      "      </tr>\n",
      "      <tr>\n",
      "        <td id=\"L4\" class=\"blob-num js-line-number\" data-line-number=\"4\"></td>\n",
      "        <td id=\"LC4\" class=\"blob-code blob-code-inner js-file-line\">{% for vlan in simple[&#39;vlans&#39;] -%}</td>\n",
      "      </tr>\n",
      "      <tr>\n",
      "        <td id=\"L5\" class=\"blob-num js-line-number\" data-line-number=\"5\"></td>\n",
      "        <td id=\"LC5\" class=\"blob-code blob-code-inner js-file-line\">vlan {{ vlan[&#39;id&#39;] }}</td>\n",
      "      </tr>\n",
      "      <tr>\n",
      "        <td id=\"L6\" class=\"blob-num js-line-number\" data-line-number=\"6\"></td>\n",
      "        <td id=\"LC6\" class=\"blob-code blob-code-inner js-file-line\">    name {{ vlan[&#39;name&#39;] }}</td>\n",
      "      </tr>\n",
      "      <tr>\n",
      "        <td id=\"L7\" class=\"blob-num js-line-number\" data-line-number=\"7\"></td>\n",
      "        <td id=\"LC7\" class=\"blob-code blob-code-inner js-file-line\">    description {{ vlan[&#39;description&#39;] }}</td>\n",
      "      </tr>\n",
      "      <tr>\n",
      "        <td id=\"L8\" class=\"blob-num js-line-number\" data-line-number=\"8\"></td>\n",
      "        <td id=\"LC8\" class=\"blob-code blob-code-inner js-file-line\">{% endfor %}#snmp_config</td>\n",
      "      </tr>\n",
      "      <tr>\n",
      "        <td id=\"L9\" class=\"blob-num js-line-number\" data-line-number=\"9\"></td>\n",
      "        <td id=\"LC9\" class=\"blob-code blob-code-inner js-file-line\">snmp-agent</td>\n",
      "      </tr>\n",
      "      <tr>\n",
      "        <td id=\"L10\" class=\"blob-num js-line-number\" data-line-number=\"10\"></td>\n",
      "        <td id=\"LC10\" class=\"blob-code blob-code-inner js-file-line\">snmp-agent community read {{ simple[&#39;snmp&#39;][&#39;read&#39;] }}</td>\n",
      "      </tr>\n",
      "      <tr>\n",
      "        <td id=\"L11\" class=\"blob-num js-line-number\" data-line-number=\"11\"></td>\n",
      "        <td id=\"LC11\" class=\"blob-code blob-code-inner js-file-line\">snmp-agent community write {{ simple[&#39;snmp&#39;][&#39;write&#39;] }}</td>\n",
      "      </tr>\n",
      "      <tr>\n",
      "        <td id=\"L12\" class=\"blob-num js-line-number\" data-line-number=\"12\"></td>\n",
      "        <td id=\"LC12\" class=\"blob-code blob-code-inner js-file-line\">snmp-agent sys-info contact {{ simple[&#39;snmp&#39;][&#39;syscontact&#39;]  }}</td>\n",
      "      </tr>\n",
      "      <tr>\n",
      "        <td id=\"L13\" class=\"blob-num js-line-number\" data-line-number=\"13\"></td>\n",
      "        <td id=\"LC13\" class=\"blob-code blob-code-inner js-file-line\">snmp-agent sys-info location {{ simple[&#39;snmp&#39;][&#39;syslocation&#39;] }}</td>\n",
      "      </tr>\n",
      "      <tr>\n",
      "        <td id=\"L14\" class=\"blob-num js-line-number\" data-line-number=\"14\"></td>\n",
      "        <td id=\"LC14\" class=\"blob-code blob-code-inner js-file-line\">snmp-agent sys-info version all</td>\n",
      "      </tr>\n",
      "</table>\n",
      "\n",
      "  </div>\n",
      "\n",
      "</div>\n",
      "\n",
      "<a href=\"#jump-to-line\" rel=\"facebox[.linejump]\" data-hotkey=\"l\" style=\"display:none\">Jump to Line</a>\n",
      "<div id=\"jump-to-line\" style=\"display:none\">\n",
      "  <!-- </textarea> --><!-- '\"` --><form accept-charset=\"UTF-8\" action=\"\" class=\"js-jump-to-line-form\" method=\"get\"><div style=\"margin:0;padding:0;display:inline\"><input name=\"utf8\" type=\"hidden\" value=\"&#x2713;\" /></div>\n",
      "    <input class=\"linejump-input js-jump-to-line-field\" type=\"text\" placeholder=\"Jump to line&hellip;\" aria-label=\"Jump to line\" autofocus>\n",
      "    <button type=\"submit\" class=\"btn\">Go</button>\n",
      "</form></div>\n",
      "\n",
      "  </div>\n",
      "  <div class=\"modal-backdrop\"></div>\n",
      "</div>\n",
      "\n",
      "    </div>\n",
      "  </div>\n",
      "\n",
      "    </div>\n",
      "\n",
      "        <div class=\"container\">\n",
      "  <div class=\"site-footer\" role=\"contentinfo\">\n",
      "    <ul class=\"site-footer-links right\">\n",
      "        <li><a href=\"https://status.github.com/\" data-ga-click=\"Footer, go to status, text:status\">Status</a></li>\n",
      "      <li><a href=\"https://developer.github.com\" data-ga-click=\"Footer, go to api, text:api\">API</a></li>\n",
      "      <li><a href=\"https://training.github.com\" data-ga-click=\"Footer, go to training, text:training\">Training</a></li>\n",
      "      <li><a href=\"https://shop.github.com\" data-ga-click=\"Footer, go to shop, text:shop\">Shop</a></li>\n",
      "        <li><a href=\"https://github.com/blog\" data-ga-click=\"Footer, go to blog, text:blog\">Blog</a></li>\n",
      "        <li><a href=\"https://github.com/about\" data-ga-click=\"Footer, go to about, text:about\">About</a></li>\n",
      "        <li><a href=\"https://github.com/pricing\" data-ga-click=\"Footer, go to pricing, text:pricing\">Pricing</a></li>\n",
      "\n",
      "    </ul>\n",
      "\n",
      "    <a href=\"https://github.com\" aria-label=\"Homepage\">\n",
      "      <span aria-hidden=\"true\" class=\"mega-octicon octicon-mark-github\" title=\"GitHub \"></span>\n",
      "</a>\n",
      "    <ul class=\"site-footer-links\">\n",
      "      <li>&copy; 2016 <span title=\"0.04239s from github-fe141-cp1-prd.iad.github.net\">GitHub</span>, Inc.</li>\n",
      "        <li><a href=\"https://github.com/site/terms\" data-ga-click=\"Footer, go to terms, text:terms\">Terms</a></li>\n",
      "        <li><a href=\"https://github.com/site/privacy\" data-ga-click=\"Footer, go to privacy, text:privacy\">Privacy</a></li>\n",
      "        <li><a href=\"https://github.com/security\" data-ga-click=\"Footer, go to security, text:security\">Security</a></li>\n",
      "        <li><a href=\"https://github.com/contact\" data-ga-click=\"Footer, go to contact, text:contact\">Contact</a></li>\n",
      "        <li><a href=\"https://help.github.com\" data-ga-click=\"Footer, go to help, text:help\">Help</a></li>\n",
      "    </ul>\n",
      "  </div>\n",
      "</div>\n",
      "\n",
      "\n",
      "\n",
      "    \n",
      "    \n",
      "    \n",
      "\n",
      "    <div id=\"ajax-error-message\" class=\"flash flash-error\">\n",
      "      <span aria-hidden=\"true\" class=\"octicon octicon-alert\"></span>\n",
      "      <button type=\"button\" class=\"flash-close js-flash-close js-ajax-error-dismiss\" aria-label=\"Dismiss error\">\n",
      "        <span aria-hidden=\"true\" class=\"octicon octicon-x\"></span>\n",
      "      </button>\n",
      "      Something went wrong with that request. Please try again.\n",
      "    </div>\n",
      "\n",
      "\n",
      "      <script crossorigin=\"anonymous\" src=\"https://assets-cdn.github.com/assets/compat-a0cee5d8d4fb535c0f41971d037b32e852a56ddca5bf67bb2124e426a2d813a5.js\"></script>\n",
      "      <script crossorigin=\"anonymous\" src=\"https://assets-cdn.github.com/assets/frameworks-9ee55ceaf87fc34dc86334249fef6cbece88e815478e0fbe81642d57ed0fff89.js\"></script>\n",
      "      <script async=\"async\" crossorigin=\"anonymous\" src=\"https://assets-cdn.github.com/assets/github-1be19ad6629c8d2b52bb1b011c6b7ecf743db569054c1c0f36c8d9858ce3f640.js\"></script>\n",
      "      \n",
      "      \n",
      "      \n",
      "    <div class=\"js-stale-session-flash stale-session-flash flash flash-warn flash-banner hidden\">\n",
      "      <span aria-hidden=\"true\" class=\"octicon octicon-alert\"></span>\n",
      "      <span class=\"signed-in-tab-flash\">You signed in with another tab or window. <a href=\"\">Reload</a> to refresh your session.</span>\n",
      "      <span class=\"signed-out-tab-flash\">You signed out in another tab or window. <a href=\"\">Reload</a> to refresh your session.</span>\n",
      "    </div>\n",
      "    <div class=\"facebox\" id=\"facebox\" style=\"display:none;\">\n",
      "  <div class=\"facebox-popup\">\n",
      "    <div class=\"facebox-content\" role=\"dialog\" aria-labelledby=\"facebox-header\" aria-describedby=\"facebox-description\">\n",
      "    </div>\n",
      "    <button type=\"button\" class=\"facebox-close js-facebox-close\" aria-label=\"Close modal\">\n",
      "      <span aria-hidden=\"true\" class=\"octicon octicon-x\"></span>\n",
      "    </button>\n",
      "  </div>\n",
      "</div>\n",
      "\n",
      "  </body>\n",
      "</html>\n",
      "\n",
      "\n"
     ]
    }
   ],
   "source": [
    "print (comware_template)"
   ]
  },
  {
   "cell_type": "markdown",
   "metadata": {
    "slideshow": {
     "slide_type": "slide"
    }
   },
   "source": [
    "## Hmmmmm. That's not right?\n",
    "\n",
    "The requests library is reaching out and grabbing whatever we put into that first variable. If we look at the print contents, we can see the first line is ** <!DOCTYPE html> **. So it looks like we're grabbing the rendered webpage, not just the contents of the file. Thankfully, looking at the GITHub website, there's an option to look at any of your files in **raw** mode.  So let's grab that URL and try this again, ok?"
   ]
  },
  {
   "cell_type": "code",
   "execution_count": 77,
   "metadata": {
    "collapsed": true
   },
   "outputs": [],
   "source": [
    "comware_template = requests.get('https://raw.githubusercontent.com/netmanchris/Jinja2-Network-Configurations-Scripts/master/simple_comware.j2').text"
   ]
  },
  {
   "cell_type": "code",
   "execution_count": 78,
   "metadata": {
    "collapsed": false
   },
   "outputs": [
    {
     "name": "stdout",
     "output_type": "stream",
     "text": [
      "#sysname config\n",
      "sysname {{ simple['hostname'] }}\n",
      "#vlan config\n",
      "{% for vlan in simple['vlans'] -%}\n",
      "vlan {{ vlan['id'] }}\n",
      "    name {{ vlan['name'] }}\n",
      "    description {{ vlan['description'] }}\n",
      "{% endfor %}#snmp_config\n",
      "snmp-agent\n",
      "snmp-agent community read {{ simple['snmp']['read'] }}\n",
      "snmp-agent community write {{ simple['snmp']['write'] }}\n",
      "snmp-agent sys-info contact {{ simple['snmp']['syscontact']  }}\n",
      "snmp-agent sys-info location {{ simple['snmp']['syslocation'] }}\n",
      "snmp-agent sys-info version all\n"
     ]
    }
   ],
   "source": [
    "print (comware_template)"
   ]
  },
  {
   "cell_type": "markdown",
   "metadata": {
    "slideshow": {
     "slide_type": "slide"
    }
   },
   "source": [
    "> ## Ahhhh... That's better."
   ]
  },
  {
   "cell_type": "markdown",
   "metadata": {
    "slideshow": {
     "slide_type": "slide"
    }
   },
   "source": [
    "# Loading Network Specific Values from GITHub\n",
    "\n",
    "Now we're going to load our network specific values which were stored in the YAML file in [this post](https://kontrolissues.wordpress.com/2016/01/19/more-jinja-working-with-yam-as-an-input/).  But this time, we're going to load them directly from a private github repository.  \n",
    "\n",
    "The free GITHub accounts allow you to have public repositories, which means everyone can see what you're doing, but if you have a [paid version](https://github.com/pricing), you can get private repositories for as little as five dollars a month.\n",
    "\n",
    "The private repositories are secured and can only be accessed by someone with a GIThub username and password who has explicitly been given access to this repository.\n",
    "\n",
    "I would say that it's probably a bad idea for us to keep any secure information like usernames, passwords, or SNMP strings in a online repository. But for my purposes, I don't have anythng of value in this lab environment so I'm not too worried about it.\n",
    "\n",
    "* note: Before you put any sensitive data into an online repository of any kind, be sure to check with your data policies see if you're breaking any corporate rules. *\n",
    "\n"
   ]
  },
  {
   "cell_type": "markdown",
   "metadata": {
    "slideshow": {
     "slide_type": "slide"
    }
   },
   "source": [
    "## Creating an Auth Object\n",
    "\n",
    "First, I'm going to create an auth object, which is basically a single object that represents the username and password for my github account. In my case, I've got a file on my local hard drive that will automatically create the auth object for me. \n",
    "\n",
    "In case you're interested, the file is called *githubuser.py* and contains the following code.\n",
    "<code python>\n",
    "from requests.auth import HTTPBasicAuth\n",
    "\n",
    "def gitcreds():\n",
    "    auth = HTTPBasicAuth('netmanchris', 'my_secret_password')\n",
    "    return auth\n",
    "    </code>\n",
    "    \n"
   ]
  },
  {
   "cell_type": "code",
   "execution_count": 79,
   "metadata": {
    "collapsed": true
   },
   "outputs": [],
   "source": [
    "auth = githubuser.gitcreds() #you didn't think I was going to give you my password did you?"
   ]
  },
  {
   "cell_type": "markdown",
   "metadata": {
    "slideshow": {
     "slide_type": "slide"
    }
   },
   "source": [
    "## Loading simple.yaml\n",
    "\n",
    "We'll now load the simple.yaml file like we did in [this post](https://kontrolissues.wordpress.com/2016/01/19/more-jinja-working-with-yam-as-an-input/) but instead of opening it from a local file, we're going to load it directly from the raw version of the file on github. I'd give you the link but it's in a private repository, so you won't be able to access it anyways. \n",
    "\n",
    "Thigs I want to point out\n",
    "- yaml.load:  takes the response and processes the yaml content directly into a python data structure ( dictionary )\n",
    "- .text: takes the \".text\" attribute from the requests object which is the content of the page. \n",
    "- auth = auth:  takes the auth object we created above and passes it as the username and password during the HTTP request. \n",
    "\n",
    "Make sense?"
   ]
  },
  {
   "cell_type": "code",
   "execution_count": 80,
   "metadata": {
    "collapsed": true
   },
   "outputs": [],
   "source": [
    "simple = yaml.load(requests.get('https://raw.githubusercontent.com/netmanchris/PrivateRepo/master/simple_config.yaml', auth=auth).text)"
   ]
  },
  {
   "cell_type": "code",
   "execution_count": 81,
   "metadata": {
    "collapsed": false
   },
   "outputs": [
    {
     "data": {
      "text/plain": [
       "{'hostname': 'testswitch',\n",
       " 'ip': '10.101.0.221',\n",
       " 'snmp': {'read': 'supersecret',\n",
       "  'syscontact': 'admin.lab.local',\n",
       "  'syslocation': 'lab',\n",
       "  'trap': [{'target': '10.101.0.200'},\n",
       "   {'target': '10.101.0.201'},\n",
       "   {'target': '10.101.0.202'}],\n",
       "  'write': 'macdonald'},\n",
       " 'vlans': [{'description': 'management vlan',\n",
       "   'id': '10',\n",
       "   'name': 'management'},\n",
       "  {'description': 'users vlan', 'id': '15', 'name': 'users'},\n",
       "  {'description': 'phones vlan', 'id': '16', 'name': 'phones'},\n",
       "  {'description': 'servers vlan', 'id': '20', 'name': 'servers vlan'}]}"
      ]
     },
     "execution_count": 81,
     "metadata": {},
     "output_type": "execute_result"
    }
   ],
   "source": [
    "simple"
   ]
  },
  {
   "cell_type": "markdown",
   "metadata": {
    "slideshow": {
     "slide_type": "slide"
    }
   },
   "source": [
    "# Putting it all together\n",
    "\n",
    "So looking at our list\n",
    "- download simple_comware.j2 template from Github public repo:    <span style=\"color:green\">**Check!**</span>\n",
    "- download simple.yaml values file from Github private repo: <span style=\"color:green\">**Check!**</span>\n",
    "- rendered templates:                                            <span style=\"color:red\">**Nope**</span>\n",
    "\n",
    "So I guess we know what comes next, right?"
   ]
  },
  {
   "cell_type": "markdown",
   "metadata": {
    "slideshow": {
     "slide_type": "slide"
    }
   },
   "source": [
    "# Rendering the final config\n",
    "\n",
    "We use the **Template** function to create a jinja2 template object and then we use the **simple** variable we created during the yaml section as input into the cw_template object."
   ]
  },
  {
   "cell_type": "code",
   "execution_count": 82,
   "metadata": {
    "collapsed": false
   },
   "outputs": [
    {
     "data": {
      "text/plain": [
       "jinja2.environment.Template"
      ]
     },
     "execution_count": 82,
     "metadata": {},
     "output_type": "execute_result"
    }
   ],
   "source": [
    "cw_template = Template(comware_template)\n",
    "type(cw_template)\n",
    "\n"
   ]
  },
  {
   "cell_type": "code",
   "execution_count": 83,
   "metadata": {
    "collapsed": false
   },
   "outputs": [
    {
     "name": "stdout",
     "output_type": "stream",
     "text": [
      "#sysname config\n",
      "sysname testswitch\n",
      "#vlan config\n",
      "vlan 10\n",
      "    name management\n",
      "    description management vlan\n",
      "vlan 15\n",
      "    name users\n",
      "    description users vlan\n",
      "vlan 16\n",
      "    name phones\n",
      "    description phones vlan\n",
      "vlan 20\n",
      "    name servers vlan\n",
      "    description servers vlan\n",
      "#snmp_config\n",
      "snmp-agent\n",
      "snmp-agent community read supersecret\n",
      "snmp-agent community write macdonald\n",
      "snmp-agent sys-info contact admin.lab.local\n",
      "snmp-agent sys-info location lab\n",
      "snmp-agent sys-info version all\n"
     ]
    }
   ],
   "source": [
    "print (cw_template.render(simple=simple))"
   ]
  },
  {
   "cell_type": "markdown",
   "metadata": {
    "slideshow": {
     "slide_type": "slide"
    }
   },
   "source": [
    "## Writing the Config to Disk\n",
    "\n",
    "So far we've only been rendering and printing configurations, but it would be kinda nice to be able to have these on disk so that we can open them in our favorite editor before we cut and paste them into a telnet session to our network device. \n",
    "\n",
    "The next two commands simply write the rendered template to disk with the filename **comware.cfg** and then we open and print the file to screen just to make sure it worked. "
   ]
  },
  {
   "cell_type": "code",
   "execution_count": 84,
   "metadata": {
    "collapsed": false
   },
   "outputs": [],
   "source": [
    "with open('comware.cfg', \"w\") as file:\n",
    "    file.write(cw_template.render(simple=simple))"
   ]
  },
  {
   "cell_type": "code",
   "execution_count": 85,
   "metadata": {
    "collapsed": false
   },
   "outputs": [
    {
     "name": "stdout",
     "output_type": "stream",
     "text": [
      "#sysname config\n",
      "sysname testswitch\n",
      "#vlan config\n",
      "vlan 10\n",
      "    name management\n",
      "    description management vlan\n",
      "vlan 15\n",
      "    name users\n",
      "    description users vlan\n",
      "vlan 16\n",
      "    name phones\n",
      "    description phones vlan\n",
      "vlan 20\n",
      "    name servers vlan\n",
      "    description servers vlan\n",
      "#snmp_config\n",
      "snmp-agent\n",
      "snmp-agent community read supersecret\n",
      "snmp-agent community write macdonald\n",
      "snmp-agent sys-info contact admin.lab.local\n",
      "snmp-agent sys-info location lab\n",
      "snmp-agent sys-info version all\n"
     ]
    }
   ],
   "source": [
    "with open('comware.cfg') as file:\n",
    "    print (file.read())"
   ]
  },
  {
   "cell_type": "markdown",
   "metadata": {
    "slideshow": {
     "slide_type": "slide"
    }
   },
   "source": [
    "# What's next?\n",
    "\n",
    "So far, we've come pretty far. We've written a couple of jinja templates, we've figure out how to store those files in a centralized control versioning system, but we're still cut'ing and past'ing those configurations ourselves which is not ideal.\n",
    "\n",
    "In the next post, we'll look at using APIs to push the configuraiton directly to a configuraiton management tool.\n",
    "\n",
    "Questions or comments?   Feel free to post below!\n",
    "\n",
    "@netmanchris\n"
   ]
  },
  {
   "cell_type": "code",
   "execution_count": null,
   "metadata": {
    "collapsed": true
   },
   "outputs": [],
   "source": []
  }
 ],
 "metadata": {
  "celltoolbar": "Slideshow",
  "kernelspec": {
   "display_name": "Python 3",
   "language": "python",
   "name": "python3"
  },
  "language_info": {
   "codemirror_mode": {
    "name": "ipython",
    "version": 3
   },
   "file_extension": ".py",
   "mimetype": "text/x-python",
   "name": "python",
   "nbconvert_exporter": "python",
   "pygments_lexer": "ipython3",
   "version": "3.4.3"
  }
 },
 "nbformat": 4,
 "nbformat_minor": 0
}
