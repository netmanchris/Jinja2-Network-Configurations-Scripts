{
 "cells": [
  {
   "cell_type": "markdown",
   "metadata": {},
   "source": [
    "# What's GIT?\n",
    "\n",
    "Git is a widely-used source code management system for software development. It is a distributed revision control system with an emphasis on speed, data integrity, and support for distributed, non-linear workflows. [wikipedia](https://goo.gl/bAsYMZ)\n",
    "\n",
    "## Huh?\n",
    "\n",
    "GIT is a piece of software that allows you to track changes to files over time. \n",
    "\n",
    "## So what's GITHub?\n",
    "\n",
    "\"Where software is built\n",
    "Powerful collaboration, code review, and code management for\n",
    "open source and private projects. Public projects are always free. \" [Github.com](https://github.com/)\n",
    "\n",
    "GITHub is like facebook for developers. It's a place where you can sync your local GIT repository to a central location, and then sync that central location to other local repositories. \n",
    "\n",
    "## What's a repository?\n",
    "\n",
    "A repository is essentially a collection of files that make up a project. You could think of it like a folder or directory. That analogy is not exact as it's possible for a repository to have multiple sub-folders or directories, but it's close enough for our purposes. \n",
    "\n",
    "## Is GIT only for Code?\n",
    "GIT was definitely designed for software developers to as a versioning control system while developing software, \n",
    "but you can use it for tracking changes to things other than \n",
    "\n",
    "You could use it for anything text format that you want to track changes to over time. For example\n",
    "- grocery lists\n",
    "- contact list\n",
    "- tracking your weight\n",
    "\n",
    "There are a lot of interesting uses for GIT, one of those that we're going to use today is looking at storing our Jinja2 templates on a public GIT repository and loading them directly into our python script as part of the code."
   ]
  },
  {
   "cell_type": "markdown",
   "metadata": {},
   "source": [
    "# Import Required Libraries\n",
    "\n",
    "Unles you've already got them, you'll need to  <code> pip install jinj2 </code> and <code> pip install requests </code> these two libraries before loading them into your running environment."
   ]
  },
  {
   "cell_type": "code",
   "execution_count": 1,
   "metadata": {
    "collapsed": true
   },
   "outputs": [],
   "source": [
    "import requests\n",
    "import yaml\n",
    "from jinja2 import Environment, FileSystemLoader, Template"
   ]
  },
  {
   "cell_type": "code",
   "execution_count": null,
   "metadata": {
    "collapsed": true
   },
   "outputs": [],
   "source": []
  }
 ],
 "metadata": {
  "kernelspec": {
   "display_name": "Python 3",
   "language": "python",
   "name": "python3"
  },
  "language_info": {
   "codemirror_mode": {
    "name": "ipython",
    "version": 3
   },
   "file_extension": ".py",
   "mimetype": "text/x-python",
   "name": "python",
   "nbconvert_exporter": "python",
   "pygments_lexer": "ipython3",
   "version": "3.4.3"
  }
 },
 "nbformat": 4,
 "nbformat_minor": 0
}
