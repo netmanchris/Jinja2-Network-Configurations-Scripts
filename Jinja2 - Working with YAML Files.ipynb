{
 "cells": [
  {
   "cell_type": "code",
   "execution_count": 1,
   "metadata": {
    "collapsed": false,
    "slideshow": {
     "slide_type": "skip"
    }
   },
   "outputs": [
    {
     "data": {
      "text/html": [
       "<style>\n",
       "table {float:left}\n",
       "</style>"
      ],
      "text/plain": [
       "<IPython.core.display.HTML object>"
      ]
     },
     "metadata": {},
     "output_type": "display_data"
    }
   ],
   "source": [
    "%%html\n",
    "<style>\n",
    "table {float:left}\n",
    "</style>"
   ]
  },
  {
   "cell_type": "markdown",
   "metadata": {
    "slideshow": {
     "slide_type": "slide"
    }
   },
   "source": [
    "# Jinja2 Simple YAML Example\n",
    "\n",
    "---\n",
    "\n",
    "We're now going to take a look at grabbing a file from the hard drive written in [YAML](http://www.yaml.org/)\n",
    "syntax. YAML is arguably the most human readable data serialization format which makes it really easy for coders and non-coders alike to work with.  \n",
    "\n",
    "We're going to build on the last Jinja2 example. Instead of creating the templates and variables directly in python. We're going to load them instead from files on our computer.\n",
    "\n",
    "This may seem like a small detail, but this allows us to deconstruct the building of our configurations, meaning that different people can be responsible for different components of the configuration. As with anything, if you can break a complex process down into several smalller less complex tasks, the whole thing starts to *feel* easier.\n",
    "\n",
    "## Loading Libraries\n",
    "\n",
    "We'll start by loading the required libraries into our python intepretor so that python knows how to deal with the YAML data serialization format as well as can properly munge the Jinja2 templates so that we can get our pretty configuration files generated with minimal effort. "
   ]
  },
  {
   "cell_type": "code",
   "execution_count": 1,
   "metadata": {
    "collapsed": true
   },
   "outputs": [],
   "source": [
    "import yaml\n",
    "from jinja2 import Environment, FileSystemLoader, Template"
   ]
  },
  {
   "cell_type": "markdown",
   "metadata": {
    "slideshow": {
     "slide_type": "-"
    }
   },
   "source": [
    "## Set the Environment\n",
    "\n",
    "Essentially, this set's the path which will define the directory where the templates will be loaded from. In this case, I'm setting it to load from the same directory."
   ]
  },
  {
   "cell_type": "code",
   "execution_count": 2,
   "metadata": {
    "collapsed": true
   },
   "outputs": [],
   "source": [
    "ENV = Environment(loader=FileSystemLoader('./'))"
   ]
  },
  {
   "cell_type": "markdown",
   "metadata": {
    "slideshow": {
     "slide_type": "slide"
    }
   },
   "source": [
    "## Printing the YAML File\n",
    "\n",
    "In this step we're going to use the * **with open() as file:** * way of opening the file and just printing it out so you can have a look at what the YAML syntax actually looks like. The advantage of using the *with open as...* way of opening the file is that there's no need to go back and close the file when you're done. May not sound like a big deal, but trust me, files don't like to be orphaned in an open pyton variable somewhere. \n",
    "\n",
    "\n",
    "If you're comfortable with configuring a network device by hand, you can PROBABLY figure out exactly what these variables are doing. The hostname is *testswitch*, the SNMP configuration are in the *snmp* section. The read string is *supersecret*, the vlans are in the *vlans* section, etc... \n",
    "\n",
    "\n",
    "Really easy to understand exactly what's going on here, right?"
   ]
  },
  {
   "cell_type": "code",
   "execution_count": 3,
   "metadata": {
    "collapsed": false
   },
   "outputs": [
    {
     "name": "stdout",
     "output_type": "stream",
     "text": [
      "\n",
      "\n",
      "hostname: testswitch\n",
      "\n",
      "ip: 10.101.0.221\n",
      "\n",
      "\n",
      "snmp:\n",
      "    read: supersecret\n",
      "    write: macdonald\n",
      "    syscontact: admin.lab.local\n",
      "    syslocation: lab\n",
      "    trap:\n",
      "    - {target: 10.101.0.200}\n",
      "    - {target: 10.101.0.201}\n",
      "    - {target: 10.101.0.202}\n",
      "\n",
      "\n",
      "\n",
      "vlans:\n",
      "- {description: management vlan, id: '10', name: management}\n",
      "- {description: users vlan, id: '15', name: users}\n",
      "- {description: phones vlan, id: '16', name: phones}\n",
      "- {description: servers vlan, id: '20', name: servers vlan }\n"
     ]
    }
   ],
   "source": [
    "with open('simple_config.yaml') as file:\n",
    "    print (file.read())"
   ]
  },
  {
   "cell_type": "markdown",
   "metadata": {
    "slideshow": {
     "slide_type": "slide"
    }
   },
   "source": [
    "## Loading the YAML File\n",
    "\n",
    "In this next step, we'll use the same *with open as...* way of opening the file, except rather than just reading the file this time, we're going to use the **yaml.load** method to load the contents of that file into a python variable called **simple**.\n",
    "\n",
    "The nice thing is that the YAML library takes care of all the hard work for us. Automation is supposed to make things easier, right?"
   ]
  },
  {
   "cell_type": "code",
   "execution_count": 4,
   "metadata": {
    "collapsed": false
   },
   "outputs": [],
   "source": [
    "with open(\"simple_config.yaml\") as simple:\n",
    "    simple =  yaml.load(simple)"
   ]
  },
  {
   "cell_type": "markdown",
   "metadata": {},
   "source": [
    "### Looking at the **simple** variable\n",
    "\n",
    "So now that we've loaded the contents of **simple.yaml** into the **simple** variable, let's take a look at what python sees.  We'll run the **type()** command first to see what kind of object **simple** has been created as, and then we'll print out the contents of **simple** so you can see how the YAML library has transformed it from the text in the YAML file to something which is easier to work with in python."
   ]
  },
  {
   "cell_type": "code",
   "execution_count": 5,
   "metadata": {
    "collapsed": false
   },
   "outputs": [
    {
     "data": {
      "text/plain": [
       "dict"
      ]
     },
     "execution_count": 5,
     "metadata": {},
     "output_type": "execute_result"
    }
   ],
   "source": [
    "type(simple)"
   ]
  },
  {
   "cell_type": "code",
   "execution_count": 6,
   "metadata": {
    "collapsed": false
   },
   "outputs": [
    {
     "data": {
      "text/plain": [
       "{'hostname': 'testswitch',\n",
       " 'ip': '10.101.0.221',\n",
       " 'snmp': {'read': 'supersecret',\n",
       "  'syscontact': 'admin.lab.local',\n",
       "  'syslocation': 'lab',\n",
       "  'trap': [{'target': '10.101.0.200'},\n",
       "   {'target': '10.101.0.201'},\n",
       "   {'target': '10.101.0.202'}],\n",
       "  'write': 'macdonald'},\n",
       " 'vlans': [{'description': 'management vlan',\n",
       "   'id': '10',\n",
       "   'name': 'management'},\n",
       "  {'description': 'users vlan', 'id': '15', 'name': 'users'},\n",
       "  {'description': 'phones vlan', 'id': '16', 'name': 'phones'},\n",
       "  {'description': 'servers vlan', 'id': '20', 'name': 'servers vlan'}]}"
      ]
     },
     "execution_count": 6,
     "metadata": {},
     "output_type": "execute_result"
    }
   ],
   "source": [
    "simple"
   ]
  },
  {
   "cell_type": "markdown",
   "metadata": {
    "slideshow": {
     "slide_type": "slide"
    }
   },
   "source": [
    "# Templates\n",
    "\n",
    "---\n",
    "\n",
    "## Printing the simple_cisco template\n",
    "\n",
    "In this step we're going to take a look at the simple_cisco.j2 template that I've created. This is a very simple configuration just to show the power of jinja for making your network configurations. \n",
    "\n",
    "If you look closely, you'll see a couple of **{% for...%}** tags in here. This is a control structure called an interator, commonly known as a **For loop**. Essentially it's saying, take the list of things and do this one action to each of the things in the list. \n",
    "\n",
    "One thing to note here is that **j2** is not a jinja2 specific file extention, but just something that I, and many others I'm sure, use to designate their template files. \n",
    "\n"
   ]
  },
  {
   "cell_type": "code",
   "execution_count": 7,
   "metadata": {
    "collapsed": false
   },
   "outputs": [
    {
     "name": "stdout",
     "output_type": "stream",
     "text": [
      "#hostname config\n",
      "hostname {{ simple['hostname'] }}\n",
      "#vlan config\n",
      "{% for vlan in simple['vlans'] -%}\n",
      "vlan {{ vlan['id'] }}\n",
      "    name {{ vlan['name'] }}\n",
      "    description {{ vlan['description'] }}\n",
      "{% endfor %}#snmp config\n",
      "snmp-server community {{ simple['snmp']['read'] }} RO\n",
      "snmp-server community {{ simple['snmp']['write'] }} RW\n",
      "snmp-server ifindex persist\n",
      "snmp-server location {{ simple['snmp']['syslocation'] }}\n",
      "snmp-server contact {{ simple['snmp']['syscontact'] }}\n",
      "{% for trap in simple['snmp']['trap'] -%}\n",
      "snmp-server host {{ trap['target'] }}  public\n",
      "{% endfor %}\n"
     ]
    }
   ],
   "source": [
    "with open('simple_cisco.j2') as file:\n",
    "    print (file.read())"
   ]
  },
  {
   "cell_type": "markdown",
   "metadata": {
    "slideshow": {
     "slide_type": "slide"
    }
   },
   "source": [
    "## Rendering the simple_cisco template\n",
    "\n",
    "In this last step of working with the simple_cisco template, we're going to now pass this through the jinja rendering engine. Because we've got dynamic parts in the template, we're going to have to supply a source for the variables to fill the dynamic part in. If you look below, we're saying that anytime you see the word **simple** in the template, you should look in the variable **simple** we created above and see if there's the appropriate information there to fill it in. \n",
    "\n",
    "In simpler terms, we're going to take the simple.yaml file we loaded above as the input values into this template.\n",
    "\n",
    "We then render the template and..."
   ]
  },
  {
   "cell_type": "code",
   "execution_count": 8,
   "metadata": {
    "collapsed": false
   },
   "outputs": [
    {
     "name": "stdout",
     "output_type": "stream",
     "text": [
      "#hostname config\n",
      "hostname testswitch\n",
      "#vlan config\n",
      "vlan 10\n",
      "    name management\n",
      "    description management vlan\n",
      "vlan 15\n",
      "    name users\n",
      "    description users vlan\n",
      "vlan 16\n",
      "    name phones\n",
      "    description phones vlan\n",
      "vlan 20\n",
      "    name servers vlan\n",
      "    description servers vlan\n",
      "#snmp config\n",
      "snmp-server community supersecret RO\n",
      "snmp-server community macdonald RW\n",
      "snmp-server ifindex persist\n",
      "snmp-server location lab\n",
      "snmp-server contact admin.lab.local\n",
      "snmp-server host 10.101.0.200  public\n",
      "snmp-server host 10.101.0.201  public\n",
      "snmp-server host 10.101.0.202  public\n",
      "\n"
     ]
    }
   ],
   "source": [
    "template = ENV.get_template(\"simple_cisco.j2\")\n",
    "print (template.render(simple=simple))"
   ]
  },
  {
   "cell_type": "markdown",
   "metadata": {},
   "source": [
    "Look familiar right? Minimal typing. Alll the VLANS are there, etc...  and the best thing is if I run this a thousand times, it will always come out the same way. "
   ]
  },
  {
   "cell_type": "markdown",
   "metadata": {
    "slideshow": {
     "slide_type": "slide"
    }
   },
   "source": [
    "## But I have a multi-vendor network!!!!\n",
    "\n",
    "This is the true power of jinja for me. I happen to run multiple vendors in my lab, but I'd like to have the ability to drive all of the configurations from a central location to make sure that they all have the same vlans, usernames and passwords, snmp strings, etc...  \n",
    "\n",
    "So now let's take a look at running another vendor's template using the same simple.yaml file as the input source."
   ]
  },
  {
   "cell_type": "markdown",
   "metadata": {
    "slideshow": {
     "slide_type": "slide"
    }
   },
   "source": [
    "## Printing the simple_comware template\n",
    "\n",
    "In this step we're going to take a look at the simple_comware.j2 template that I've created. This is a very simple configuration just to show the power of jinja for making your network configurations.\n",
    "\n",
    "You'll notice that it's very close to the simple_cisco.j2 file shown above. The real difference is the parts outside of the jinja2 variables.  HPE Networking's comware devices use the keyword **sysname** instead of **hostname**. They use the keyword **snmp-agent** instead of **snmp-server**.  Minor differences in the syntax, but the actual values are exactly the same for both devices. \n",
    "\n",
    "One other thing to notice is that I've chosen not to include the command to set the SNMP trap host on the Comware device. In a production environment, of course we would want to make sure that our devices are sending SNMP traps to the right location, but for this example I purposely left it out to prove a point; \n",
    "\n",
    "> **Just because you have it doesn't mean you need to use it!**   \n",
    "\n",
    "*That's probably a rule that should probably apply to a lot more than just jinja templates*"
   ]
  },
  {
   "cell_type": "code",
   "execution_count": 9,
   "metadata": {
    "collapsed": false
   },
   "outputs": [
    {
     "name": "stdout",
     "output_type": "stream",
     "text": [
      "#sysname config\n",
      "sysname {{ simple['hostname'] }}\n",
      "#vlan config\n",
      "{% for vlan in simple['vlans'] -%}\n",
      "vlan {{ vlan['id'] }}\n",
      "    name {{ vlan['name'] }}\n",
      "    description {{ vlan['description'] }}\n",
      "{% endfor %}#snmp_config\n",
      "snmp-agent\n",
      "snmp-agent community read {{ simple['snmp']['read'] }}\n",
      "snmp-agent community write {{ simple['snmp']['write'] }}\n",
      "snmp-agent sys-info contact {{ simple['snmp']['syscontact']  }}\n",
      "snmp-agent sys-info location {{ simple['snmp']['syslocation'] }}\n",
      "snmp-agent sys-info version all\n"
     ]
    }
   ],
   "source": [
    "with open('simple_comware.j2') as file:\n",
    "    print (file.read())"
   ]
  },
  {
   "cell_type": "markdown",
   "metadata": {
    "slideshow": {
     "slide_type": "slide"
    }
   },
   "source": [
    "## Rendering the simple_comware template\n",
    "\n",
    "In this step, we're going to render and print the template using the same **simple** variable that we used for the **simple_cisco.j2** template above. Because of the difference in the **simple_comware.j2** templates, it will render with the proper syntax for the HPE devices. "
   ]
  },
  {
   "cell_type": "code",
   "execution_count": 10,
   "metadata": {
    "collapsed": false,
    "scrolled": true
   },
   "outputs": [
    {
     "name": "stdout",
     "output_type": "stream",
     "text": [
      "#sysname config\n",
      "sysname testswitch\n",
      "#vlan config\n",
      "vlan 10\n",
      "    name management\n",
      "    description management vlan\n",
      "vlan 15\n",
      "    name users\n",
      "    description users vlan\n",
      "vlan 16\n",
      "    name phones\n",
      "    description phones vlan\n",
      "vlan 20\n",
      "    name servers vlan\n",
      "    description servers vlan\n",
      "#snmp_config\n",
      "snmp-agent\n",
      "snmp-agent community read supersecret\n",
      "snmp-agent community write macdonald\n",
      "snmp-agent sys-info contact admin.lab.local\n",
      "snmp-agent sys-info location lab\n",
      "snmp-agent sys-info version all\n"
     ]
    }
   ],
   "source": [
    "template = ENV.get_template(\"simple_comware.j2\")\n",
    "print (template.render(simple=simple))"
   ]
  },
  {
   "cell_type": "markdown",
   "metadata": {
    "collapsed": true,
    "slideshow": {
     "slide_type": "slide"
    }
   },
   "source": [
    "# Wrap Up\n",
    "\n",
    "I'm sure you'll agree this is a much better way of creating your configurations than grabbing a console cable and typing them all out by hand, right?  But there's still a lot of room for improvement! Currently, we're going to render the template and then cut and paste them into a console cable. So although we've made some gains... it could be better. \n",
    "\n",
    "We'll take a look at that next time.\n",
    "\n",
    "@netmanchris\n"
   ]
  },
  {
   "cell_type": "code",
   "execution_count": null,
   "metadata": {
    "collapsed": true
   },
   "outputs": [],
   "source": []
  }
 ],
 "metadata": {
  "celltoolbar": "Slideshow",
  "kernelspec": {
   "display_name": "Python 3",
   "language": "python",
   "name": "python3"
  },
  "language_info": {
   "codemirror_mode": {
    "name": "ipython",
    "version": 3
   },
   "file_extension": ".py",
   "mimetype": "text/x-python",
   "name": "python",
   "nbconvert_exporter": "python",
   "pygments_lexer": "ipython3",
   "version": "3.4.3"
  }
 },
 "nbformat": 4,
 "nbformat_minor": 0
}
